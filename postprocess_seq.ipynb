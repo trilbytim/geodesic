{
 "cells": [
  {
   "cell_type": "code",
   "execution_count": 21,
   "id": "2b47db54",
   "metadata": {},
   "outputs": [
    {
     "name": "stdout",
     "output_type": "stream",
     "text": [
      "thinned from  251  to  47 points\n"
     ]
    }
   ],
   "source": [
    "from barmesh.basicgeo import P2, P3\n",
    "import json\n",
    "fname = \"output/pts.json\"\n",
    "jpts = json.load(open(fname, \"r\"))\n",
    "pts0 = [ P3(*p)  for p in jpts ]\n",
    "\n",
    "from postprocessor_funcs import outputsrclines, thinptstotolerance\n",
    "pts = thinptstotolerance(pts0, tol=0.9)\n",
    "print(\"thinned from \", len(pts0), \" to \", len(pts), \"points\")"
   ]
  },
  {
   "cell_type": "code",
   "execution_count": 22,
   "id": "f68e4112",
   "metadata": {},
   "outputs": [],
   "source": [
    "\n",
    "freetapelength = 90.0\n",
    "robotstate = { \"E3\": 0.0, \"E1\": 0.0 }\n",
    "\n",
    "fname = \"out.src\"\n",
    "srclines = outputsrclines(pts, freetapelength, robotstate)\n",
    "fout = open(fname, \"w\")\n",
    "fout.write(open(\"srcheader.txt\").read())\n",
    "fout.write(srclines[0])\n",
    "fout.write(\"HALT\\n\")\n",
    "for l in srclines[1:]:\n",
    "    fout.write(l)\n",
    "fout.write(\"HALT\\n\")\n",
    "fout.write(\"END\\n\");\n",
    "fout.close()\n",
    "\n",
    "\n",
    "\n"
   ]
  },
  {
   "cell_type": "code",
   "execution_count": null,
   "id": "acc99768",
   "metadata": {},
   "outputs": [],
   "source": []
  }
 ],
 "metadata": {
  "kernelspec": {
   "display_name": "Python 3 (ipykernel)",
   "language": "python",
   "name": "python3"
  },
  "language_info": {
   "codemirror_mode": {
    "name": "ipython",
    "version": 3
   },
   "file_extension": ".py",
   "mimetype": "text/x-python",
   "name": "python",
   "nbconvert_exporter": "python",
   "pygments_lexer": "ipython3",
   "version": "3.9.6"
  }
 },
 "nbformat": 4,
 "nbformat_minor": 5
}
