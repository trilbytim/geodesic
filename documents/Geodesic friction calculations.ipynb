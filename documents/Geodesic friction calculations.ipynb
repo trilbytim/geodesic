{
 "cells": [
  {
   "cell_type": "code",
   "execution_count": 1,
   "id": "4f4c9458",
   "metadata": {},
   "outputs": [],
   "source": [
    "import sympy\n",
    "alpha = sympy.Symbol(\"alpha\")\n",
    "beta = sympy.Symbol(\"beta\")\n",
    "phi = sympy.Symbol(\"phi\")\n",
    "R = sympy.Symbol(\"R\")\n"
   ]
  },
  {
   "cell_type": "code",
   "execution_count": 2,
   "id": "b3057f2a",
   "metadata": {},
   "outputs": [
    {
     "name": "stdout",
     "output_type": "stream",
     "text": [
      "We need to solve for: beta in\n"
     ]
    },
    {
     "data": {
      "text/latex": [
       "$\\displaystyle - \\sin{\\left(\\alpha \\right)} + \\sin{\\left(\\beta \\right)} = R \\sqrt{\\left(- \\cos{\\left(\\alpha \\right)} + \\cos{\\left(\\beta \\right)}\\right)^{2} \\sin^{2}{\\left(\\phi \\right)} + \\left(\\cos{\\left(\\alpha \\right)} + \\cos{\\left(\\beta \\right)}\\right)^{2} \\cos^{2}{\\left(\\phi \\right)}}$"
      ],
      "text/plain": [
       "Eq(-sin(alpha) + sin(beta), R*sqrt((-cos(alpha) + cos(beta))**2*sin(phi)**2 + (cos(alpha) + cos(beta))**2*cos(phi)**2))"
      ]
     },
     "execution_count": 2,
     "metadata": {},
     "output_type": "execute_result"
    }
   ],
   "source": [
    "# Two planes meet on an edge (like a tent with a ridge) containing a point p.\n",
    "# The unit ridge vector is v, the unit perpendicular vectors in each plane is u1 and u2\n",
    "# The angle between the two planes (and between u1 and u2) is 2phi\n",
    "# The coefficient of friction is R\n",
    "# The filament crosses the ridge edge at point p with an angle to u1 of alpha\n",
    "#   and an angle of u2 of beta\n",
    "# If the crossing is a perfect geodesic, then alpha = beta\n",
    "\n",
    "# Otherwise the two sides of the filament pull at the point p with a force of F1 + F1\n",
    "#   F1 = -v sin(alpha) + u1 sin(alpha)\n",
    "#   F2 = v sin(beta) + u2 sin(beta)\n",
    "# If u is the unit bisector of u1 and u2 and w is the unit vector perpendicular to v and u\n",
    "#   u1 = u cos(phi) - w sin(phi)\n",
    "#   u2 = u cos(phi) + w sin(phi)\n",
    "\n",
    "# The unit force applied by F1 + F2 along the ridge edge is \n",
    "Fa = sympy.sin(beta) - sympy.sin(alpha)\n",
    "# The unit force applied by F1 + F2 perpendicular at the edge is\n",
    "#   Fp = u1 cos(alpha) + u2 cos(beta)\n",
    "#      = u cos(phi) cos(alpha) - w sin(phi) cos(alpha) + u cos(phi) cos(beta) + w sin(phi) cos(beta)\n",
    "#      = u cos(phi) (cos(alpha) + cos(beta)) + w sin(phi) (-cos(alpha) + cos(beta))\n",
    "# Since u and w are perpendicular unit vectors\n",
    "Fpsq = (sympy.cos(phi)*(sympy.cos(alpha) + sympy.cos(beta)))**2 + \\\n",
    "       (sympy.sin(phi)*(-sympy.cos(alpha) + sympy.cos(beta)))**2\n",
    "Fp = sympy.sqrt(Fpsq)\n",
    "\n",
    "print(\"We need to solve for:\", beta, \"in\" )\n",
    "eq = sympy.Eq(Fa, R*Fp)\n",
    "eq\n"
   ]
  },
  {
   "cell_type": "code",
   "execution_count": 3,
   "id": "297daa5a",
   "metadata": {},
   "outputs": [],
   "source": [
    "# Do I feel lucky?\n",
    "#No! This crashes out\n",
    "#sympy.solvers.solve(eq, beta)"
   ]
  },
  {
   "cell_type": "code",
   "execution_count": 4,
   "id": "a3d7e10b",
   "metadata": {},
   "outputs": [
    {
     "data": {
      "text/latex": [
       "$\\displaystyle \\left(- \\sin{\\left(\\alpha \\right)} + \\sin{\\left(\\beta \\right)}\\right)^{2} = R^{2} \\left(\\left(- \\cos{\\left(\\alpha \\right)} + \\cos{\\left(\\beta \\right)}\\right)^{2} \\sin^{2}{\\left(\\phi \\right)} + \\left(\\cos{\\left(\\alpha \\right)} + \\cos{\\left(\\beta \\right)}\\right)^{2} \\cos^{2}{\\left(\\phi \\right)}\\right)$"
      ],
      "text/plain": [
       "Eq((-sin(alpha) + sin(beta))**2, R**2*((-cos(alpha) + cos(beta))**2*sin(phi)**2 + (cos(alpha) + cos(beta))**2*cos(phi)**2))"
      ]
     },
     "execution_count": 4,
     "metadata": {},
     "output_type": "execute_result"
    }
   ],
   "source": [
    "eq2 = sympy.Eq(Fa**2, (R*Fp)**2)\n",
    "eq2\n"
   ]
  },
  {
   "cell_type": "code",
   "execution_count": 5,
   "id": "75a6b82b",
   "metadata": {},
   "outputs": [
    {
     "data": {
      "text/latex": [
       "$\\displaystyle R^{2} \\sin^{2}{\\left(\\phi \\right)} \\cos^{2}{\\left(\\alpha \\right)} - 2 R^{2} \\sin^{2}{\\left(\\phi \\right)} \\cos{\\left(\\alpha \\right)} \\cos{\\left(\\beta \\right)} + R^{2} \\sin^{2}{\\left(\\phi \\right)} \\cos^{2}{\\left(\\beta \\right)} + R^{2} \\cos^{2}{\\left(\\alpha \\right)} \\cos^{2}{\\left(\\phi \\right)} + 2 R^{2} \\cos{\\left(\\alpha \\right)} \\cos{\\left(\\beta \\right)} \\cos^{2}{\\left(\\phi \\right)} + R^{2} \\cos^{2}{\\left(\\beta \\right)} \\cos^{2}{\\left(\\phi \\right)} - \\sin^{2}{\\left(\\alpha \\right)} + 2 \\sin{\\left(\\alpha \\right)} \\sin{\\left(\\beta \\right)} - \\sin^{2}{\\left(\\beta \\right)}$"
      ],
      "text/plain": [
       "R**2*sin(phi)**2*cos(alpha)**2 - 2*R**2*sin(phi)**2*cos(alpha)*cos(beta) + R**2*sin(phi)**2*cos(beta)**2 + R**2*cos(alpha)**2*cos(phi)**2 + 2*R**2*cos(alpha)*cos(beta)*cos(phi)**2 + R**2*cos(beta)**2*cos(phi)**2 - sin(alpha)**2 + 2*sin(alpha)*sin(beta) - sin(beta)**2"
      ]
     },
     "execution_count": 5,
     "metadata": {},
     "output_type": "execute_result"
    }
   ],
   "source": [
    "eq3 = eq2.rhs.expand() - eq2.lhs.expand()\n",
    "eq3"
   ]
  },
  {
   "cell_type": "code",
   "execution_count": 9,
   "id": "f9317012",
   "metadata": {},
   "outputs": [
    {
     "data": {
      "text/latex": [
       "$\\displaystyle - \\left(\\sin{\\left(\\alpha \\right)} - \\sin{\\left(\\beta \\right)}\\right)^{2}$"
      ],
      "text/plain": [
       "-(sin(alpha) - sin(beta))**2"
      ]
     },
     "execution_count": 9,
     "metadata": {},
     "output_type": "execute_result"
    }
   ],
   "source": [
    "# Check still makes geodesic when friction is zero!\n",
    "eq3.subs(R, 0).simplify()\n",
    "# alpha = beta"
   ]
  },
  {
   "cell_type": "code",
   "execution_count": null,
   "id": "0e147d44",
   "metadata": {},
   "outputs": [],
   "source": [
    "# Are we going to try our luck again?\n",
    "# No!\n",
    "#sympy.solvers.solve(eq3, beta)\n"
   ]
  },
  {
   "cell_type": "code",
   "execution_count": 10,
   "id": "4b1a3777",
   "metadata": {},
   "outputs": [
    {
     "data": {
      "text/plain": [
       "{cos(beta)**2: R**2*sin(phi)**2 + R**2*cos(phi)**2 + 1,\n",
       " sin(beta): 2*sin(alpha),\n",
       " cos(beta): -2*R**2*sin(phi)**2*cos(alpha) + 2*R**2*cos(alpha)*cos(phi)**2,\n",
       " 1: R**2*sin(phi)**2*cos(alpha)**2 + R**2*cos(alpha)**2*cos(phi)**2 - sin(alpha)**2 - 1}"
      ]
     },
     "execution_count": 10,
     "metadata": {},
     "output_type": "execute_result"
    }
   ],
   "source": [
    "eq3.subs(sympy.sin(beta)**2, 1 - sympy.cos(beta)**2)\n",
    "leq3 = eq3.subs(sympy.sin(beta)**2, 1 - sympy.cos(beta)**2)\n",
    "eq3c = sympy.collect(leq3, [sympy.cos(beta), sympy.sin(beta)], evaluate=False)\n",
    "eq3c"
   ]
  },
  {
   "cell_type": "code",
   "execution_count": 11,
   "id": "c09aae16",
   "metadata": {},
   "outputs": [
    {
     "data": {
      "text/latex": [
       "$\\displaystyle a \\cos{\\left(\\beta \\right)} + b \\sin{\\left(\\beta \\right)} + c + \\cos^{2}{\\left(\\beta \\right)}$"
      ],
      "text/plain": [
       "a*cos(beta) + b*sin(beta) + c + cos(beta)**2"
      ]
     },
     "execution_count": 11,
     "metadata": {},
     "output_type": "execute_result"
    }
   ],
   "source": [
    "a = sympy.Symbol(\"a\")  # eq3c[sympy.cos(beta)]/eq3c[sympy.cos(beta)**2]\n",
    "b = sympy.Symbol(\"b\")  # eq3c[sympy.sin(beta)]/eq3c[sympy.cos(beta)**2]\n",
    "c = sympy.Symbol(\"c\")  # 1/eq3c[sympy.cos(beta)**2]\n",
    "eq4 = sympy.cos(beta)**2 + a*sympy.cos(beta) + b*sympy.sin(beta) + c\n"
   ]
  },
  {
   "cell_type": "code",
   "execution_count": 13,
   "id": "93262abc",
   "metadata": {},
   "outputs": [
    {
     "data": {
      "text/latex": [
       "$\\displaystyle - b \\sin{\\left(\\beta \\right)} = a \\cos{\\left(\\beta \\right)} + c + \\cos^{2}{\\left(\\beta \\right)}$"
      ],
      "text/plain": [
       "Eq(-b*sin(beta), a*cos(beta) + c + cos(beta)**2)"
      ]
     },
     "execution_count": 13,
     "metadata": {},
     "output_type": "execute_result"
    }
   ],
   "source": [
    "eq4e = sympy.Eq(-b*sympy.sin(beta), sympy.cos(beta)**2 + a*sympy.cos(beta) + c)\n",
    "eq4e"
   ]
  },
  {
   "cell_type": "code",
   "execution_count": 15,
   "id": "bcf665f6",
   "metadata": {},
   "outputs": [
    {
     "data": {
      "text/latex": [
       "$\\displaystyle - b^{2} \\sin^{2}{\\left(\\beta \\right)} + \\left(a \\cos{\\left(\\beta \\right)} + c + \\cos^{2}{\\left(\\beta \\right)}\\right)^{2}$"
      ],
      "text/plain": [
       "-b**2*sin(beta)**2 + (a*cos(beta) + c + cos(beta)**2)**2"
      ]
     },
     "execution_count": 15,
     "metadata": {},
     "output_type": "execute_result"
    }
   ],
   "source": [
    "eq5 = eq4e.rhs**2 - eq4e.lhs**2\n",
    "eq5"
   ]
  },
  {
   "cell_type": "code",
   "execution_count": 17,
   "id": "25c09178",
   "metadata": {},
   "outputs": [
    {
     "data": {
      "text/latex": [
       "$\\displaystyle - b^{2} \\left(1 - \\cos^{2}{\\left(\\beta \\right)}\\right) + \\left(a \\cos{\\left(\\beta \\right)} + c + \\cos^{2}{\\left(\\beta \\right)}\\right)^{2}$"
      ],
      "text/plain": [
       "-b**2*(1 - cos(beta)**2) + (a*cos(beta) + c + cos(beta)**2)**2"
      ]
     },
     "execution_count": 17,
     "metadata": {},
     "output_type": "execute_result"
    }
   ],
   "source": [
    "eq6 = eq5.subs(sympy.sin(beta)**2, 1 - sympy.cos(beta)**2)\n",
    "eq6"
   ]
  },
  {
   "cell_type": "code",
   "execution_count": 28,
   "id": "3acf62a8",
   "metadata": {},
   "outputs": [
    {
     "data": {
      "text/plain": [
       "{x**4: 1, x**2: a**2 + b**2 + 2*c, x**3: 2*a, x: 2*a*c, 1: -b**2 + c**2}"
      ]
     },
     "execution_count": 28,
     "metadata": {},
     "output_type": "execute_result"
    }
   ],
   "source": [
    "x = sympy.Symbol(\"x\")\n",
    "eq7 = eq6.subs(sympy.cos(beta), x)\n",
    "sympy.collect(eq7.expand(), x, evaluate=False)\n",
    "# This is a quartic (4th order) equation"
   ]
  },
  {
   "cell_type": "code",
   "execution_count": 32,
   "id": "89726e16",
   "metadata": {},
   "outputs": [
    {
     "data": {
      "text/plain": [
       "[Piecewise((-a/2 - sqrt(a**2/3 - 2*b**2/3 - 4*c/3 - 2*(-(2*a*c + 2*a*(-b**2/2 - c))**2/8 - (-a**2/2 + b**2 + 2*c)**3/108 + (-a**2/2 + b**2 + 2*c)*(-2*a*(a*c/2 + 2*a*(-a**2/64 - b**2/16 - c/8)) - b**2 + c**2)/3)**(1/3))/2 - sqrt(2*a**2/3 - 4*b**2/3 - 8*c/3 + (4*a*c + 4*a*(-b**2/2 - c))/sqrt(a**2/3 - 2*b**2/3 - 4*c/3 - 2*(-(2*a*c + 2*a*(-b**2/2 - c))**2/8 - (-a**2/2 + b**2 + 2*c)**3/108 + (-a**2/2 + b**2 + 2*c)*(-2*a*(a*c/2 + 2*a*(-a**2/64 - b**2/16 - c/8)) - b**2 + c**2)/3)**(1/3)) + 2*(-(2*a*c + 2*a*(-b**2/2 - c))**2/8 - (-a**2/2 + b**2 + 2*c)**3/108 + (-a**2/2 + b**2 + 2*c)*(-2*a*(a*c/2 + 2*a*(-a**2/64 - b**2/16 - c/8)) - b**2 + c**2)/3)**(1/3))/2, Eq(a**4/12 + a**2*b**2/6 - 2*a**2*c/3 + b**4/12 + b**2*c/3 - b**2 + 4*c**2/3, 0)), (-a/2 - sqrt(a**2/3 - 2*b**2/3 - 4*c/3 + 2*((2*a*c + 2*a*(-b**2/2 - c))**2/16 + sqrt((-(2*a*c + 2*a*(-b**2/2 - c))**2/8 - (-a**2/2 + b**2 + 2*c)**3/108 + (-a**2/2 + b**2 + 2*c)*(-2*a*(a*c/2 + 2*a*(-a**2/64 - b**2/16 - c/8)) - b**2 + c**2)/3)**2/4 + (-a**4/12 - a**2*b**2/6 + 2*a**2*c/3 - b**4/12 - b**2*c/3 + b**2 - 4*c**2/3)**3/27) + (-a**2/2 + b**2 + 2*c)**3/216 - (-a**2/2 + b**2 + 2*c)*(-2*a*(a*c/2 + 2*a*(-a**2/64 - b**2/16 - c/8)) - b**2 + c**2)/6)**(1/3) - 2*(-a**4/12 - a**2*b**2/6 + 2*a**2*c/3 - b**4/12 - b**2*c/3 + b**2 - 4*c**2/3)/(3*((2*a*c + 2*a*(-b**2/2 - c))**2/16 + sqrt((-(2*a*c + 2*a*(-b**2/2 - c))**2/8 - (-a**2/2 + b**2 + 2*c)**3/108 + (-a**2/2 + b**2 + 2*c)*(-2*a*(a*c/2 + 2*a*(-a**2/64 - b**2/16 - c/8)) - b**2 + c**2)/3)**2/4 + (-a**4/12 - a**2*b**2/6 + 2*a**2*c/3 - b**4/12 - b**2*c/3 + b**2 - 4*c**2/3)**3/27) + (-a**2/2 + b**2 + 2*c)**3/216 - (-a**2/2 + b**2 + 2*c)*(-2*a*(a*c/2 + 2*a*(-a**2/64 - b**2/16 - c/8)) - b**2 + c**2)/6)**(1/3)))/2 - sqrt(2*a**2/3 - 4*b**2/3 - 8*c/3 + (4*a*c + 4*a*(-b**2/2 - c))/sqrt(a**2/3 - 2*b**2/3 - 4*c/3 + 2*((2*a*c + 2*a*(-b**2/2 - c))**2/16 + sqrt((-(2*a*c + 2*a*(-b**2/2 - c))**2/8 - (-a**2/2 + b**2 + 2*c)**3/108 + (-a**2/2 + b**2 + 2*c)*(-2*a*(a*c/2 + 2*a*(-a**2/64 - b**2/16 - c/8)) - b**2 + c**2)/3)**2/4 + (-a**4/12 - a**2*b**2/6 + 2*a**2*c/3 - b**4/12 - b**2*c/3 + b**2 - 4*c**2/3)**3/27) + (-a**2/2 + b**2 + 2*c)**3/216 - (-a**2/2 + b**2 + 2*c)*(-2*a*(a*c/2 + 2*a*(-a**2/64 - b**2/16 - c/8)) - b**2 + c**2)/6)**(1/3) - 2*(-a**4/12 - a**2*b**2/6 + 2*a**2*c/3 - b**4/12 - b**2*c/3 + b**2 - 4*c**2/3)/(3*((2*a*c + 2*a*(-b**2/2 - c))**2/16 + sqrt((-(2*a*c + 2*a*(-b**2/2 - c))**2/8 - (-a**2/2 + b**2 + 2*c)**3/108 + (-a**2/2 + b**2 + 2*c)*(-2*a*(a*c/2 + 2*a*(-a**2/64 - b**2/16 - c/8)) - b**2 + c**2)/3)**2/4 + (-a**4/12 - a**2*b**2/6 + 2*a**2*c/3 - b**4/12 - b**2*c/3 + b**2 - 4*c**2/3)**3/27) + (-a**2/2 + b**2 + 2*c)**3/216 - (-a**2/2 + b**2 + 2*c)*(-2*a*(a*c/2 + 2*a*(-a**2/64 - b**2/16 - c/8)) - b**2 + c**2)/6)**(1/3))) - 2*((2*a*c + 2*a*(-b**2/2 - c))**2/16 + sqrt((-(2*a*c + 2*a*(-b**2/2 - c))**2/8 - (-a**2/2 + b**2 + 2*c)**3/108 + (-a**2/2 + b**2 + 2*c)*(-2*a*(a*c/2 + 2*a*(-a**2/64 - b**2/16 - c/8)) - b**2 + c**2)/3)**2/4 + (-a**4/12 - a**2*b**2/6 + 2*a**2*c/3 - b**4/12 - b**2*c/3 + b**2 - 4*c**2/3)**3/27) + (-a**2/2 + b**2 + 2*c)**3/216 - (-a**2/2 + b**2 + 2*c)*(-2*a*(a*c/2 + 2*a*(-a**2/64 - b**2/16 - c/8)) - b**2 + c**2)/6)**(1/3) + 2*(-a**4/12 - a**2*b**2/6 + 2*a**2*c/3 - b**4/12 - b**2*c/3 + b**2 - 4*c**2/3)/(3*((2*a*c + 2*a*(-b**2/2 - c))**2/16 + sqrt((-(2*a*c + 2*a*(-b**2/2 - c))**2/8 - (-a**2/2 + b**2 + 2*c)**3/108 + (-a**2/2 + b**2 + 2*c)*(-2*a*(a*c/2 + 2*a*(-a**2/64 - b**2/16 - c/8)) - b**2 + c**2)/3)**2/4 + (-a**4/12 - a**2*b**2/6 + 2*a**2*c/3 - b**4/12 - b**2*c/3 + b**2 - 4*c**2/3)**3/27) + (-a**2/2 + b**2 + 2*c)**3/216 - (-a**2/2 + b**2 + 2*c)*(-2*a*(a*c/2 + 2*a*(-a**2/64 - b**2/16 - c/8)) - b**2 + c**2)/6)**(1/3)))/2, True)),\n",
       " Piecewise((-a/2 - sqrt(a**2/3 - 2*b**2/3 - 4*c/3 - 2*(-(2*a*c + 2*a*(-b**2/2 - c))**2/8 - (-a**2/2 + b**2 + 2*c)**3/108 + (-a**2/2 + b**2 + 2*c)*(-2*a*(a*c/2 + 2*a*(-a**2/64 - b**2/16 - c/8)) - b**2 + c**2)/3)**(1/3))/2 + sqrt(2*a**2/3 - 4*b**2/3 - 8*c/3 + (4*a*c + 4*a*(-b**2/2 - c))/sqrt(a**2/3 - 2*b**2/3 - 4*c/3 - 2*(-(2*a*c + 2*a*(-b**2/2 - c))**2/8 - (-a**2/2 + b**2 + 2*c)**3/108 + (-a**2/2 + b**2 + 2*c)*(-2*a*(a*c/2 + 2*a*(-a**2/64 - b**2/16 - c/8)) - b**2 + c**2)/3)**(1/3)) + 2*(-(2*a*c + 2*a*(-b**2/2 - c))**2/8 - (-a**2/2 + b**2 + 2*c)**3/108 + (-a**2/2 + b**2 + 2*c)*(-2*a*(a*c/2 + 2*a*(-a**2/64 - b**2/16 - c/8)) - b**2 + c**2)/3)**(1/3))/2, Eq(a**4/12 + a**2*b**2/6 - 2*a**2*c/3 + b**4/12 + b**2*c/3 - b**2 + 4*c**2/3, 0)), (-a/2 - sqrt(a**2/3 - 2*b**2/3 - 4*c/3 + 2*((2*a*c + 2*a*(-b**2/2 - c))**2/16 + sqrt((-(2*a*c + 2*a*(-b**2/2 - c))**2/8 - (-a**2/2 + b**2 + 2*c)**3/108 + (-a**2/2 + b**2 + 2*c)*(-2*a*(a*c/2 + 2*a*(-a**2/64 - b**2/16 - c/8)) - b**2 + c**2)/3)**2/4 + (-a**4/12 - a**2*b**2/6 + 2*a**2*c/3 - b**4/12 - b**2*c/3 + b**2 - 4*c**2/3)**3/27) + (-a**2/2 + b**2 + 2*c)**3/216 - (-a**2/2 + b**2 + 2*c)*(-2*a*(a*c/2 + 2*a*(-a**2/64 - b**2/16 - c/8)) - b**2 + c**2)/6)**(1/3) - 2*(-a**4/12 - a**2*b**2/6 + 2*a**2*c/3 - b**4/12 - b**2*c/3 + b**2 - 4*c**2/3)/(3*((2*a*c + 2*a*(-b**2/2 - c))**2/16 + sqrt((-(2*a*c + 2*a*(-b**2/2 - c))**2/8 - (-a**2/2 + b**2 + 2*c)**3/108 + (-a**2/2 + b**2 + 2*c)*(-2*a*(a*c/2 + 2*a*(-a**2/64 - b**2/16 - c/8)) - b**2 + c**2)/3)**2/4 + (-a**4/12 - a**2*b**2/6 + 2*a**2*c/3 - b**4/12 - b**2*c/3 + b**2 - 4*c**2/3)**3/27) + (-a**2/2 + b**2 + 2*c)**3/216 - (-a**2/2 + b**2 + 2*c)*(-2*a*(a*c/2 + 2*a*(-a**2/64 - b**2/16 - c/8)) - b**2 + c**2)/6)**(1/3)))/2 + sqrt(2*a**2/3 - 4*b**2/3 - 8*c/3 + (4*a*c + 4*a*(-b**2/2 - c))/sqrt(a**2/3 - 2*b**2/3 - 4*c/3 + 2*((2*a*c + 2*a*(-b**2/2 - c))**2/16 + sqrt((-(2*a*c + 2*a*(-b**2/2 - c))**2/8 - (-a**2/2 + b**2 + 2*c)**3/108 + (-a**2/2 + b**2 + 2*c)*(-2*a*(a*c/2 + 2*a*(-a**2/64 - b**2/16 - c/8)) - b**2 + c**2)/3)**2/4 + (-a**4/12 - a**2*b**2/6 + 2*a**2*c/3 - b**4/12 - b**2*c/3 + b**2 - 4*c**2/3)**3/27) + (-a**2/2 + b**2 + 2*c)**3/216 - (-a**2/2 + b**2 + 2*c)*(-2*a*(a*c/2 + 2*a*(-a**2/64 - b**2/16 - c/8)) - b**2 + c**2)/6)**(1/3) - 2*(-a**4/12 - a**2*b**2/6 + 2*a**2*c/3 - b**4/12 - b**2*c/3 + b**2 - 4*c**2/3)/(3*((2*a*c + 2*a*(-b**2/2 - c))**2/16 + sqrt((-(2*a*c + 2*a*(-b**2/2 - c))**2/8 - (-a**2/2 + b**2 + 2*c)**3/108 + (-a**2/2 + b**2 + 2*c)*(-2*a*(a*c/2 + 2*a*(-a**2/64 - b**2/16 - c/8)) - b**2 + c**2)/3)**2/4 + (-a**4/12 - a**2*b**2/6 + 2*a**2*c/3 - b**4/12 - b**2*c/3 + b**2 - 4*c**2/3)**3/27) + (-a**2/2 + b**2 + 2*c)**3/216 - (-a**2/2 + b**2 + 2*c)*(-2*a*(a*c/2 + 2*a*(-a**2/64 - b**2/16 - c/8)) - b**2 + c**2)/6)**(1/3))) - 2*((2*a*c + 2*a*(-b**2/2 - c))**2/16 + sqrt((-(2*a*c + 2*a*(-b**2/2 - c))**2/8 - (-a**2/2 + b**2 + 2*c)**3/108 + (-a**2/2 + b**2 + 2*c)*(-2*a*(a*c/2 + 2*a*(-a**2/64 - b**2/16 - c/8)) - b**2 + c**2)/3)**2/4 + (-a**4/12 - a**2*b**2/6 + 2*a**2*c/3 - b**4/12 - b**2*c/3 + b**2 - 4*c**2/3)**3/27) + (-a**2/2 + b**2 + 2*c)**3/216 - (-a**2/2 + b**2 + 2*c)*(-2*a*(a*c/2 + 2*a*(-a**2/64 - b**2/16 - c/8)) - b**2 + c**2)/6)**(1/3) + 2*(-a**4/12 - a**2*b**2/6 + 2*a**2*c/3 - b**4/12 - b**2*c/3 + b**2 - 4*c**2/3)/(3*((2*a*c + 2*a*(-b**2/2 - c))**2/16 + sqrt((-(2*a*c + 2*a*(-b**2/2 - c))**2/8 - (-a**2/2 + b**2 + 2*c)**3/108 + (-a**2/2 + b**2 + 2*c)*(-2*a*(a*c/2 + 2*a*(-a**2/64 - b**2/16 - c/8)) - b**2 + c**2)/3)**2/4 + (-a**4/12 - a**2*b**2/6 + 2*a**2*c/3 - b**4/12 - b**2*c/3 + b**2 - 4*c**2/3)**3/27) + (-a**2/2 + b**2 + 2*c)**3/216 - (-a**2/2 + b**2 + 2*c)*(-2*a*(a*c/2 + 2*a*(-a**2/64 - b**2/16 - c/8)) - b**2 + c**2)/6)**(1/3)))/2, True)),\n",
       " Piecewise((-a/2 + sqrt(a**2/3 - 2*b**2/3 - 4*c/3 - 2*(-(2*a*c + 2*a*(-b**2/2 - c))**2/8 - (-a**2/2 + b**2 + 2*c)**3/108 + (-a**2/2 + b**2 + 2*c)*(-2*a*(a*c/2 + 2*a*(-a**2/64 - b**2/16 - c/8)) - b**2 + c**2)/3)**(1/3))/2 - sqrt(2*a**2/3 - 4*b**2/3 - 8*c/3 - (4*a*c + 4*a*(-b**2/2 - c))/sqrt(a**2/3 - 2*b**2/3 - 4*c/3 - 2*(-(2*a*c + 2*a*(-b**2/2 - c))**2/8 - (-a**2/2 + b**2 + 2*c)**3/108 + (-a**2/2 + b**2 + 2*c)*(-2*a*(a*c/2 + 2*a*(-a**2/64 - b**2/16 - c/8)) - b**2 + c**2)/3)**(1/3)) + 2*(-(2*a*c + 2*a*(-b**2/2 - c))**2/8 - (-a**2/2 + b**2 + 2*c)**3/108 + (-a**2/2 + b**2 + 2*c)*(-2*a*(a*c/2 + 2*a*(-a**2/64 - b**2/16 - c/8)) - b**2 + c**2)/3)**(1/3))/2, Eq(a**4/12 + a**2*b**2/6 - 2*a**2*c/3 + b**4/12 + b**2*c/3 - b**2 + 4*c**2/3, 0)), (-a/2 + sqrt(a**2/3 - 2*b**2/3 - 4*c/3 + 2*((2*a*c + 2*a*(-b**2/2 - c))**2/16 + sqrt((-(2*a*c + 2*a*(-b**2/2 - c))**2/8 - (-a**2/2 + b**2 + 2*c)**3/108 + (-a**2/2 + b**2 + 2*c)*(-2*a*(a*c/2 + 2*a*(-a**2/64 - b**2/16 - c/8)) - b**2 + c**2)/3)**2/4 + (-a**4/12 - a**2*b**2/6 + 2*a**2*c/3 - b**4/12 - b**2*c/3 + b**2 - 4*c**2/3)**3/27) + (-a**2/2 + b**2 + 2*c)**3/216 - (-a**2/2 + b**2 + 2*c)*(-2*a*(a*c/2 + 2*a*(-a**2/64 - b**2/16 - c/8)) - b**2 + c**2)/6)**(1/3) - 2*(-a**4/12 - a**2*b**2/6 + 2*a**2*c/3 - b**4/12 - b**2*c/3 + b**2 - 4*c**2/3)/(3*((2*a*c + 2*a*(-b**2/2 - c))**2/16 + sqrt((-(2*a*c + 2*a*(-b**2/2 - c))**2/8 - (-a**2/2 + b**2 + 2*c)**3/108 + (-a**2/2 + b**2 + 2*c)*(-2*a*(a*c/2 + 2*a*(-a**2/64 - b**2/16 - c/8)) - b**2 + c**2)/3)**2/4 + (-a**4/12 - a**2*b**2/6 + 2*a**2*c/3 - b**4/12 - b**2*c/3 + b**2 - 4*c**2/3)**3/27) + (-a**2/2 + b**2 + 2*c)**3/216 - (-a**2/2 + b**2 + 2*c)*(-2*a*(a*c/2 + 2*a*(-a**2/64 - b**2/16 - c/8)) - b**2 + c**2)/6)**(1/3)))/2 - sqrt(2*a**2/3 - 4*b**2/3 - 8*c/3 - (4*a*c + 4*a*(-b**2/2 - c))/sqrt(a**2/3 - 2*b**2/3 - 4*c/3 + 2*((2*a*c + 2*a*(-b**2/2 - c))**2/16 + sqrt((-(2*a*c + 2*a*(-b**2/2 - c))**2/8 - (-a**2/2 + b**2 + 2*c)**3/108 + (-a**2/2 + b**2 + 2*c)*(-2*a*(a*c/2 + 2*a*(-a**2/64 - b**2/16 - c/8)) - b**2 + c**2)/3)**2/4 + (-a**4/12 - a**2*b**2/6 + 2*a**2*c/3 - b**4/12 - b**2*c/3 + b**2 - 4*c**2/3)**3/27) + (-a**2/2 + b**2 + 2*c)**3/216 - (-a**2/2 + b**2 + 2*c)*(-2*a*(a*c/2 + 2*a*(-a**2/64 - b**2/16 - c/8)) - b**2 + c**2)/6)**(1/3) - 2*(-a**4/12 - a**2*b**2/6 + 2*a**2*c/3 - b**4/12 - b**2*c/3 + b**2 - 4*c**2/3)/(3*((2*a*c + 2*a*(-b**2/2 - c))**2/16 + sqrt((-(2*a*c + 2*a*(-b**2/2 - c))**2/8 - (-a**2/2 + b**2 + 2*c)**3/108 + (-a**2/2 + b**2 + 2*c)*(-2*a*(a*c/2 + 2*a*(-a**2/64 - b**2/16 - c/8)) - b**2 + c**2)/3)**2/4 + (-a**4/12 - a**2*b**2/6 + 2*a**2*c/3 - b**4/12 - b**2*c/3 + b**2 - 4*c**2/3)**3/27) + (-a**2/2 + b**2 + 2*c)**3/216 - (-a**2/2 + b**2 + 2*c)*(-2*a*(a*c/2 + 2*a*(-a**2/64 - b**2/16 - c/8)) - b**2 + c**2)/6)**(1/3))) - 2*((2*a*c + 2*a*(-b**2/2 - c))**2/16 + sqrt((-(2*a*c + 2*a*(-b**2/2 - c))**2/8 - (-a**2/2 + b**2 + 2*c)**3/108 + (-a**2/2 + b**2 + 2*c)*(-2*a*(a*c/2 + 2*a*(-a**2/64 - b**2/16 - c/8)) - b**2 + c**2)/3)**2/4 + (-a**4/12 - a**2*b**2/6 + 2*a**2*c/3 - b**4/12 - b**2*c/3 + b**2 - 4*c**2/3)**3/27) + (-a**2/2 + b**2 + 2*c)**3/216 - (-a**2/2 + b**2 + 2*c)*(-2*a*(a*c/2 + 2*a*(-a**2/64 - b**2/16 - c/8)) - b**2 + c**2)/6)**(1/3) + 2*(-a**4/12 - a**2*b**2/6 + 2*a**2*c/3 - b**4/12 - b**2*c/3 + b**2 - 4*c**2/3)/(3*((2*a*c + 2*a*(-b**2/2 - c))**2/16 + sqrt((-(2*a*c + 2*a*(-b**2/2 - c))**2/8 - (-a**2/2 + b**2 + 2*c)**3/108 + (-a**2/2 + b**2 + 2*c)*(-2*a*(a*c/2 + 2*a*(-a**2/64 - b**2/16 - c/8)) - b**2 + c**2)/3)**2/4 + (-a**4/12 - a**2*b**2/6 + 2*a**2*c/3 - b**4/12 - b**2*c/3 + b**2 - 4*c**2/3)**3/27) + (-a**2/2 + b**2 + 2*c)**3/216 - (-a**2/2 + b**2 + 2*c)*(-2*a*(a*c/2 + 2*a*(-a**2/64 - b**2/16 - c/8)) - b**2 + c**2)/6)**(1/3)))/2, True)),\n",
       " Piecewise((-a/2 + sqrt(a**2/3 - 2*b**2/3 - 4*c/3 - 2*(-(2*a*c + 2*a*(-b**2/2 - c))**2/8 - (-a**2/2 + b**2 + 2*c)**3/108 + (-a**2/2 + b**2 + 2*c)*(-2*a*(a*c/2 + 2*a*(-a**2/64 - b**2/16 - c/8)) - b**2 + c**2)/3)**(1/3))/2 + sqrt(2*a**2/3 - 4*b**2/3 - 8*c/3 - (4*a*c + 4*a*(-b**2/2 - c))/sqrt(a**2/3 - 2*b**2/3 - 4*c/3 - 2*(-(2*a*c + 2*a*(-b**2/2 - c))**2/8 - (-a**2/2 + b**2 + 2*c)**3/108 + (-a**2/2 + b**2 + 2*c)*(-2*a*(a*c/2 + 2*a*(-a**2/64 - b**2/16 - c/8)) - b**2 + c**2)/3)**(1/3)) + 2*(-(2*a*c + 2*a*(-b**2/2 - c))**2/8 - (-a**2/2 + b**2 + 2*c)**3/108 + (-a**2/2 + b**2 + 2*c)*(-2*a*(a*c/2 + 2*a*(-a**2/64 - b**2/16 - c/8)) - b**2 + c**2)/3)**(1/3))/2, Eq(a**4/12 + a**2*b**2/6 - 2*a**2*c/3 + b**4/12 + b**2*c/3 - b**2 + 4*c**2/3, 0)), (-a/2 + sqrt(a**2/3 - 2*b**2/3 - 4*c/3 + 2*((2*a*c + 2*a*(-b**2/2 - c))**2/16 + sqrt((-(2*a*c + 2*a*(-b**2/2 - c))**2/8 - (-a**2/2 + b**2 + 2*c)**3/108 + (-a**2/2 + b**2 + 2*c)*(-2*a*(a*c/2 + 2*a*(-a**2/64 - b**2/16 - c/8)) - b**2 + c**2)/3)**2/4 + (-a**4/12 - a**2*b**2/6 + 2*a**2*c/3 - b**4/12 - b**2*c/3 + b**2 - 4*c**2/3)**3/27) + (-a**2/2 + b**2 + 2*c)**3/216 - (-a**2/2 + b**2 + 2*c)*(-2*a*(a*c/2 + 2*a*(-a**2/64 - b**2/16 - c/8)) - b**2 + c**2)/6)**(1/3) - 2*(-a**4/12 - a**2*b**2/6 + 2*a**2*c/3 - b**4/12 - b**2*c/3 + b**2 - 4*c**2/3)/(3*((2*a*c + 2*a*(-b**2/2 - c))**2/16 + sqrt((-(2*a*c + 2*a*(-b**2/2 - c))**2/8 - (-a**2/2 + b**2 + 2*c)**3/108 + (-a**2/2 + b**2 + 2*c)*(-2*a*(a*c/2 + 2*a*(-a**2/64 - b**2/16 - c/8)) - b**2 + c**2)/3)**2/4 + (-a**4/12 - a**2*b**2/6 + 2*a**2*c/3 - b**4/12 - b**2*c/3 + b**2 - 4*c**2/3)**3/27) + (-a**2/2 + b**2 + 2*c)**3/216 - (-a**2/2 + b**2 + 2*c)*(-2*a*(a*c/2 + 2*a*(-a**2/64 - b**2/16 - c/8)) - b**2 + c**2)/6)**(1/3)))/2 + sqrt(2*a**2/3 - 4*b**2/3 - 8*c/3 - (4*a*c + 4*a*(-b**2/2 - c))/sqrt(a**2/3 - 2*b**2/3 - 4*c/3 + 2*((2*a*c + 2*a*(-b**2/2 - c))**2/16 + sqrt((-(2*a*c + 2*a*(-b**2/2 - c))**2/8 - (-a**2/2 + b**2 + 2*c)**3/108 + (-a**2/2 + b**2 + 2*c)*(-2*a*(a*c/2 + 2*a*(-a**2/64 - b**2/16 - c/8)) - b**2 + c**2)/3)**2/4 + (-a**4/12 - a**2*b**2/6 + 2*a**2*c/3 - b**4/12 - b**2*c/3 + b**2 - 4*c**2/3)**3/27) + (-a**2/2 + b**2 + 2*c)**3/216 - (-a**2/2 + b**2 + 2*c)*(-2*a*(a*c/2 + 2*a*(-a**2/64 - b**2/16 - c/8)) - b**2 + c**2)/6)**(1/3) - 2*(-a**4/12 - a**2*b**2/6 + 2*a**2*c/3 - b**4/12 - b**2*c/3 + b**2 - 4*c**2/3)/(3*((2*a*c + 2*a*(-b**2/2 - c))**2/16 + sqrt((-(2*a*c + 2*a*(-b**2/2 - c))**2/8 - (-a**2/2 + b**2 + 2*c)**3/108 + (-a**2/2 + b**2 + 2*c)*(-2*a*(a*c/2 + 2*a*(-a**2/64 - b**2/16 - c/8)) - b**2 + c**2)/3)**2/4 + (-a**4/12 - a**2*b**2/6 + 2*a**2*c/3 - b**4/12 - b**2*c/3 + b**2 - 4*c**2/3)**3/27) + (-a**2/2 + b**2 + 2*c)**3/216 - (-a**2/2 + b**2 + 2*c)*(-2*a*(a*c/2 + 2*a*(-a**2/64 - b**2/16 - c/8)) - b**2 + c**2)/6)**(1/3))) - 2*((2*a*c + 2*a*(-b**2/2 - c))**2/16 + sqrt((-(2*a*c + 2*a*(-b**2/2 - c))**2/8 - (-a**2/2 + b**2 + 2*c)**3/108 + (-a**2/2 + b**2 + 2*c)*(-2*a*(a*c/2 + 2*a*(-a**2/64 - b**2/16 - c/8)) - b**2 + c**2)/3)**2/4 + (-a**4/12 - a**2*b**2/6 + 2*a**2*c/3 - b**4/12 - b**2*c/3 + b**2 - 4*c**2/3)**3/27) + (-a**2/2 + b**2 + 2*c)**3/216 - (-a**2/2 + b**2 + 2*c)*(-2*a*(a*c/2 + 2*a*(-a**2/64 - b**2/16 - c/8)) - b**2 + c**2)/6)**(1/3) + 2*(-a**4/12 - a**2*b**2/6 + 2*a**2*c/3 - b**4/12 - b**2*c/3 + b**2 - 4*c**2/3)/(3*((2*a*c + 2*a*(-b**2/2 - c))**2/16 + sqrt((-(2*a*c + 2*a*(-b**2/2 - c))**2/8 - (-a**2/2 + b**2 + 2*c)**3/108 + (-a**2/2 + b**2 + 2*c)*(-2*a*(a*c/2 + 2*a*(-a**2/64 - b**2/16 - c/8)) - b**2 + c**2)/3)**2/4 + (-a**4/12 - a**2*b**2/6 + 2*a**2*c/3 - b**4/12 - b**2*c/3 + b**2 - 4*c**2/3)**3/27) + (-a**2/2 + b**2 + 2*c)**3/216 - (-a**2/2 + b**2 + 2*c)*(-2*a*(a*c/2 + 2*a*(-a**2/64 - b**2/16 - c/8)) - b**2 + c**2)/6)**(1/3)))/2, True))]"
      ]
     },
     "execution_count": 32,
     "metadata": {},
     "output_type": "execute_result"
    }
   ],
   "source": [
    "# Sympy does have a solution for this (which is technically possible, but is big)\n",
    "seq7 = sympy.solve(eq7, x)\n",
    "seq7"
   ]
  },
  {
   "cell_type": "code",
   "execution_count": 34,
   "id": "e0bf834b",
   "metadata": {},
   "outputs": [
    {
     "data": {
      "text/latex": [
       "$\\displaystyle \\begin{cases} - \\frac{a}{2} - \\frac{\\sqrt{12 a^{2} - 24 b^{2} - 48 c - 6 \\sqrt[3]{2} \\sqrt[3]{- 108 a^{2} b^{4} - \\left(- a^{2} + 2 b^{2} + 4 c\\right)^{3} + 9 \\left(- a^{2} + 2 b^{2} + 4 c\\right) \\left(- a^{2} \\left(- a^{2} - 4 b^{2} + 8 c\\right) - 16 b^{2} + 16 c^{2}\\right)}}}{12} - \\frac{\\sqrt{24 a^{2} - \\frac{72 \\sqrt{6} a b^{2}}{\\sqrt{2 a^{2} - 4 b^{2} - 8 c - \\sqrt[3]{2} \\sqrt[3]{- 108 a^{2} b^{4} - \\left(- a^{2} + 2 b^{2} + 4 c\\right)^{3} + 9 \\left(- a^{2} + 2 b^{2} + 4 c\\right) \\left(- a^{2} \\left(- a^{2} - 4 b^{2} + 8 c\\right) - 16 b^{2} + 16 c^{2}\\right)}}} - 48 b^{2} - 96 c + 6 \\sqrt[3]{2} \\sqrt[3]{- 108 a^{2} b^{4} - \\left(- a^{2} + 2 b^{2} + 4 c\\right)^{3} + 9 \\left(- a^{2} + 2 b^{2} + 4 c\\right) \\left(- a^{2} \\left(- a^{2} - 4 b^{2} + 8 c\\right) - 16 b^{2} + 16 c^{2}\\right)}}}{12} & \\text{for}\\: \\frac{a^{4}}{12} + \\frac{a^{2} b^{2}}{6} - \\frac{2 a^{2} c}{3} + \\frac{b^{4}}{12} + \\frac{b^{2} c}{3} - b^{2} + \\frac{4 c^{2}}{3} = 0 \\\\- \\frac{a}{2} - \\frac{\\sqrt{6} \\sqrt{\\frac{4 a^{4} + 8 a^{2} b^{2} - 32 a^{2} c + 4 b^{4} + 16 b^{2} c - 48 b^{2} + 64 c^{2} + \\left(2 a^{2} - 4 b^{2} - 8 c + \\sqrt[3]{108 a^{2} b^{4} + \\sqrt{\\left(108 a^{2} b^{4} + \\left(- a^{2} + 2 b^{2} + 4 c\\right)^{3} + 9 \\left(- a^{2} + 2 b^{2} + 4 c\\right) \\left(- a^{2} \\left(a^{2} + 4 b^{2} - 8 c\\right) + 16 b^{2} - 16 c^{2}\\right)\\right)^{2} - 64 \\left(a^{4} + 2 a^{2} b^{2} - 8 a^{2} c + b^{4} + 4 b^{2} c - 12 b^{2} + 16 c^{2}\\right)^{3}} + \\left(- a^{2} + 2 b^{2} + 4 c\\right)^{3} - 9 \\left(- a^{2} + 2 b^{2} + 4 c\\right) \\left(a^{2} \\left(a^{2} + 4 b^{2} - 8 c\\right) - 16 b^{2} + 16 c^{2}\\right)}\\right) \\sqrt[3]{108 a^{2} b^{4} + \\sqrt{\\left(108 a^{2} b^{4} + \\left(- a^{2} + 2 b^{2} + 4 c\\right)^{3} + 9 \\left(- a^{2} + 2 b^{2} + 4 c\\right) \\left(- a^{2} \\left(a^{2} + 4 b^{2} - 8 c\\right) + 16 b^{2} - 16 c^{2}\\right)\\right)^{2} - 64 \\left(a^{4} + 2 a^{2} b^{2} - 8 a^{2} c + b^{4} + 4 b^{2} c - 12 b^{2} + 16 c^{2}\\right)^{3}} + \\left(- a^{2} + 2 b^{2} + 4 c\\right)^{3} - 9 \\left(- a^{2} + 2 b^{2} + 4 c\\right) \\left(a^{2} \\left(a^{2} + 4 b^{2} - 8 c\\right) - 16 b^{2} + 16 c^{2}\\right)}}{\\sqrt[3]{108 a^{2} b^{4} + \\sqrt{\\left(108 a^{2} b^{4} + \\left(- a^{2} + 2 b^{2} + 4 c\\right)^{3} + 9 \\left(- a^{2} + 2 b^{2} + 4 c\\right) \\left(- a^{2} \\left(a^{2} + 4 b^{2} - 8 c\\right) + 16 b^{2} - 16 c^{2}\\right)\\right)^{2} - 64 \\left(a^{4} + 2 a^{2} b^{2} - 8 a^{2} c + b^{4} + 4 b^{2} c - 12 b^{2} + 16 c^{2}\\right)^{3}} + \\left(- a^{2} + 2 b^{2} + 4 c\\right)^{3} - 9 \\left(- a^{2} + 2 b^{2} + 4 c\\right) \\left(a^{2} \\left(a^{2} + 4 b^{2} - 8 c\\right) - 16 b^{2} + 16 c^{2}\\right)}}}}{12} - \\frac{\\sqrt{6} \\sqrt{4 a^{2} - \\frac{12 \\sqrt{6} a b^{2}}{\\sqrt{\\frac{4 a^{4} + 8 a^{2} b^{2} - 32 a^{2} c + 4 b^{4} + 16 b^{2} c - 48 b^{2} + 64 c^{2} + \\left(2 a^{2} - 4 b^{2} - 8 c + \\sqrt[3]{108 a^{2} b^{4} + \\sqrt{\\left(- 108 a^{2} b^{4} - \\left(- a^{2} + 2 b^{2} + 4 c\\right)^{3} + 9 \\left(- a^{2} + 2 b^{2} + 4 c\\right) \\left(- a^{2} \\left(- a^{2} - 4 b^{2} + 8 c\\right) - 16 b^{2} + 16 c^{2}\\right)\\right)^{2} + 64 \\left(- a^{4} - 2 a^{2} b^{2} + 8 a^{2} c - b^{4} - 4 b^{2} c + 12 b^{2} - 16 c^{2}\\right)^{3}} + \\left(- a^{2} + 2 b^{2} + 4 c\\right)^{3} - 9 \\left(- a^{2} + 2 b^{2} + 4 c\\right) \\left(- a^{2} \\left(- a^{2} - 4 b^{2} + 8 c\\right) - 16 b^{2} + 16 c^{2}\\right)}\\right) \\sqrt[3]{108 a^{2} b^{4} + \\sqrt{\\left(- 108 a^{2} b^{4} - \\left(- a^{2} + 2 b^{2} + 4 c\\right)^{3} + 9 \\left(- a^{2} + 2 b^{2} + 4 c\\right) \\left(- a^{2} \\left(- a^{2} - 4 b^{2} + 8 c\\right) - 16 b^{2} + 16 c^{2}\\right)\\right)^{2} + 64 \\left(- a^{4} - 2 a^{2} b^{2} + 8 a^{2} c - b^{4} - 4 b^{2} c + 12 b^{2} - 16 c^{2}\\right)^{3}} + \\left(- a^{2} + 2 b^{2} + 4 c\\right)^{3} - 9 \\left(- a^{2} + 2 b^{2} + 4 c\\right) \\left(- a^{2} \\left(- a^{2} - 4 b^{2} + 8 c\\right) - 16 b^{2} + 16 c^{2}\\right)}}{\\sqrt[3]{108 a^{2} b^{4} + \\sqrt{\\left(- 108 a^{2} b^{4} - \\left(- a^{2} + 2 b^{2} + 4 c\\right)^{3} + 9 \\left(- a^{2} + 2 b^{2} + 4 c\\right) \\left(- a^{2} \\left(- a^{2} - 4 b^{2} + 8 c\\right) - 16 b^{2} + 16 c^{2}\\right)\\right)^{2} + 64 \\left(- a^{4} - 2 a^{2} b^{2} + 8 a^{2} c - b^{4} - 4 b^{2} c + 12 b^{2} - 16 c^{2}\\right)^{3}} + \\left(- a^{2} + 2 b^{2} + 4 c\\right)^{3} - 9 \\left(- a^{2} + 2 b^{2} + 4 c\\right) \\left(- a^{2} \\left(- a^{2} - 4 b^{2} + 8 c\\right) - 16 b^{2} + 16 c^{2}\\right)}}}} - 8 b^{2} - 16 c - \\sqrt[3]{108 a^{2} b^{4} + \\sqrt{\\left(108 a^{2} b^{4} + \\left(- a^{2} + 2 b^{2} + 4 c\\right)^{3} - 9 \\left(- a^{2} + 2 b^{2} + 4 c\\right) \\left(- a^{2} \\left(- a^{2} - 4 b^{2} + 8 c\\right) - 16 b^{2} + 16 c^{2}\\right)\\right)^{2} - 64 \\left(a^{4} + 2 a^{2} b^{2} - 8 a^{2} c + b^{4} + 4 b^{2} c - 12 b^{2} + 16 c^{2}\\right)^{3}} + \\left(- a^{2} + 2 b^{2} + 4 c\\right)^{3} + 9 \\left(- a^{2} + 2 b^{2} + 4 c\\right) \\left(a^{2} \\left(- a^{2} - 4 b^{2} + 8 c\\right) + 16 b^{2} - 16 c^{2}\\right)} + \\frac{4 \\left(- a^{4} - 2 a^{2} b^{2} + 8 a^{2} c - b^{4} - 4 b^{2} c + 12 b^{2} - 16 c^{2}\\right)}{\\sqrt[3]{108 a^{2} b^{4} + \\sqrt{\\left(108 a^{2} b^{4} + \\left(- a^{2} + 2 b^{2} + 4 c\\right)^{3} - 9 \\left(- a^{2} + 2 b^{2} + 4 c\\right) \\left(- a^{2} \\left(- a^{2} - 4 b^{2} + 8 c\\right) - 16 b^{2} + 16 c^{2}\\right)\\right)^{2} - 64 \\left(a^{4} + 2 a^{2} b^{2} - 8 a^{2} c + b^{4} + 4 b^{2} c - 12 b^{2} + 16 c^{2}\\right)^{3}} + \\left(- a^{2} + 2 b^{2} + 4 c\\right)^{3} + 9 \\left(- a^{2} + 2 b^{2} + 4 c\\right) \\left(a^{2} \\left(- a^{2} - 4 b^{2} + 8 c\\right) + 16 b^{2} - 16 c^{2}\\right)}}}}{12} & \\text{otherwise} \\end{cases}$"
      ],
      "text/plain": [
       "Piecewise((-a/2 - sqrt(12*a**2 - 24*b**2 - 48*c - 6*2**(1/3)*(-108*a**2*b**4 - (-a**2 + 2*b**2 + 4*c)**3 + 9*(-a**2 + 2*b**2 + 4*c)*(-a**2*(-a**2 - 4*b**2 + 8*c) - 16*b**2 + 16*c**2))**(1/3))/12 - sqrt(24*a**2 - 72*sqrt(6)*a*b**2/sqrt(2*a**2 - 4*b**2 - 8*c - 2**(1/3)*(-108*a**2*b**4 - (-a**2 + 2*b**2 + 4*c)**3 + 9*(-a**2 + 2*b**2 + 4*c)*(-a**2*(-a**2 - 4*b**2 + 8*c) - 16*b**2 + 16*c**2))**(1/3)) - 48*b**2 - 96*c + 6*2**(1/3)*(-108*a**2*b**4 - (-a**2 + 2*b**2 + 4*c)**3 + 9*(-a**2 + 2*b**2 + 4*c)*(-a**2*(-a**2 - 4*b**2 + 8*c) - 16*b**2 + 16*c**2))**(1/3))/12, Eq(a**4/12 + a**2*b**2/6 - 2*a**2*c/3 + b**4/12 + b**2*c/3 - b**2 + 4*c**2/3, 0)), (-a/2 - sqrt(6)*sqrt((4*a**4 + 8*a**2*b**2 - 32*a**2*c + 4*b**4 + 16*b**2*c - 48*b**2 + 64*c**2 + (2*a**2 - 4*b**2 - 8*c + (108*a**2*b**4 + sqrt((108*a**2*b**4 + (-a**2 + 2*b**2 + 4*c)**3 + 9*(-a**2 + 2*b**2 + 4*c)*(-a**2*(a**2 + 4*b**2 - 8*c) + 16*b**2 - 16*c**2))**2 - 64*(a**4 + 2*a**2*b**2 - 8*a**2*c + b**4 + 4*b**2*c - 12*b**2 + 16*c**2)**3) + (-a**2 + 2*b**2 + 4*c)**3 - 9*(-a**2 + 2*b**2 + 4*c)*(a**2*(a**2 + 4*b**2 - 8*c) - 16*b**2 + 16*c**2))**(1/3))*(108*a**2*b**4 + sqrt((108*a**2*b**4 + (-a**2 + 2*b**2 + 4*c)**3 + 9*(-a**2 + 2*b**2 + 4*c)*(-a**2*(a**2 + 4*b**2 - 8*c) + 16*b**2 - 16*c**2))**2 - 64*(a**4 + 2*a**2*b**2 - 8*a**2*c + b**4 + 4*b**2*c - 12*b**2 + 16*c**2)**3) + (-a**2 + 2*b**2 + 4*c)**3 - 9*(-a**2 + 2*b**2 + 4*c)*(a**2*(a**2 + 4*b**2 - 8*c) - 16*b**2 + 16*c**2))**(1/3))/(108*a**2*b**4 + sqrt((108*a**2*b**4 + (-a**2 + 2*b**2 + 4*c)**3 + 9*(-a**2 + 2*b**2 + 4*c)*(-a**2*(a**2 + 4*b**2 - 8*c) + 16*b**2 - 16*c**2))**2 - 64*(a**4 + 2*a**2*b**2 - 8*a**2*c + b**4 + 4*b**2*c - 12*b**2 + 16*c**2)**3) + (-a**2 + 2*b**2 + 4*c)**3 - 9*(-a**2 + 2*b**2 + 4*c)*(a**2*(a**2 + 4*b**2 - 8*c) - 16*b**2 + 16*c**2))**(1/3))/12 - sqrt(6)*sqrt(4*a**2 - 12*sqrt(6)*a*b**2/sqrt((4*a**4 + 8*a**2*b**2 - 32*a**2*c + 4*b**4 + 16*b**2*c - 48*b**2 + 64*c**2 + (2*a**2 - 4*b**2 - 8*c + (108*a**2*b**4 + sqrt((-108*a**2*b**4 - (-a**2 + 2*b**2 + 4*c)**3 + 9*(-a**2 + 2*b**2 + 4*c)*(-a**2*(-a**2 - 4*b**2 + 8*c) - 16*b**2 + 16*c**2))**2 + 64*(-a**4 - 2*a**2*b**2 + 8*a**2*c - b**4 - 4*b**2*c + 12*b**2 - 16*c**2)**3) + (-a**2 + 2*b**2 + 4*c)**3 - 9*(-a**2 + 2*b**2 + 4*c)*(-a**2*(-a**2 - 4*b**2 + 8*c) - 16*b**2 + 16*c**2))**(1/3))*(108*a**2*b**4 + sqrt((-108*a**2*b**4 - (-a**2 + 2*b**2 + 4*c)**3 + 9*(-a**2 + 2*b**2 + 4*c)*(-a**2*(-a**2 - 4*b**2 + 8*c) - 16*b**2 + 16*c**2))**2 + 64*(-a**4 - 2*a**2*b**2 + 8*a**2*c - b**4 - 4*b**2*c + 12*b**2 - 16*c**2)**3) + (-a**2 + 2*b**2 + 4*c)**3 - 9*(-a**2 + 2*b**2 + 4*c)*(-a**2*(-a**2 - 4*b**2 + 8*c) - 16*b**2 + 16*c**2))**(1/3))/(108*a**2*b**4 + sqrt((-108*a**2*b**4 - (-a**2 + 2*b**2 + 4*c)**3 + 9*(-a**2 + 2*b**2 + 4*c)*(-a**2*(-a**2 - 4*b**2 + 8*c) - 16*b**2 + 16*c**2))**2 + 64*(-a**4 - 2*a**2*b**2 + 8*a**2*c - b**4 - 4*b**2*c + 12*b**2 - 16*c**2)**3) + (-a**2 + 2*b**2 + 4*c)**3 - 9*(-a**2 + 2*b**2 + 4*c)*(-a**2*(-a**2 - 4*b**2 + 8*c) - 16*b**2 + 16*c**2))**(1/3)) - 8*b**2 - 16*c - (108*a**2*b**4 + sqrt((108*a**2*b**4 + (-a**2 + 2*b**2 + 4*c)**3 - 9*(-a**2 + 2*b**2 + 4*c)*(-a**2*(-a**2 - 4*b**2 + 8*c) - 16*b**2 + 16*c**2))**2 - 64*(a**4 + 2*a**2*b**2 - 8*a**2*c + b**4 + 4*b**2*c - 12*b**2 + 16*c**2)**3) + (-a**2 + 2*b**2 + 4*c)**3 + 9*(-a**2 + 2*b**2 + 4*c)*(a**2*(-a**2 - 4*b**2 + 8*c) + 16*b**2 - 16*c**2))**(1/3) + 4*(-a**4 - 2*a**2*b**2 + 8*a**2*c - b**4 - 4*b**2*c + 12*b**2 - 16*c**2)/(108*a**2*b**4 + sqrt((108*a**2*b**4 + (-a**2 + 2*b**2 + 4*c)**3 - 9*(-a**2 + 2*b**2 + 4*c)*(-a**2*(-a**2 - 4*b**2 + 8*c) - 16*b**2 + 16*c**2))**2 - 64*(a**4 + 2*a**2*b**2 - 8*a**2*c + b**4 + 4*b**2*c - 12*b**2 + 16*c**2)**3) + (-a**2 + 2*b**2 + 4*c)**3 + 9*(-a**2 + 2*b**2 + 4*c)*(a**2*(-a**2 - 4*b**2 + 8*c) + 16*b**2 - 16*c**2))**(1/3))/12, True))"
      ]
     },
     "execution_count": 34,
     "metadata": {},
     "output_type": "execute_result"
    }
   ],
   "source": [
    "# There are 3 coefficients, so there is a slim chance of some dimensionally reduction\n",
    "seq7[0].simplify()"
   ]
  },
  {
   "cell_type": "code",
   "execution_count": null,
   "id": "3bb606d8",
   "metadata": {},
   "outputs": [],
   "source": []
  }
 ],
 "metadata": {
  "kernelspec": {
   "display_name": "Python 3 (ipykernel)",
   "language": "python",
   "name": "python3"
  },
  "language_info": {
   "codemirror_mode": {
    "name": "ipython",
    "version": 3
   },
   "file_extension": ".py",
   "mimetype": "text/x-python",
   "name": "python",
   "nbconvert_exporter": "python",
   "pygments_lexer": "ipython3",
   "version": "3.9.6"
  }
 },
 "nbformat": 4,
 "nbformat_minor": 5
}
