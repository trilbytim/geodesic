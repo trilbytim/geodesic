{
 "cells": [
  {
   "cell_type": "markdown",
   "id": "95729188-b5a9-444c-bd69-d615ebb71e0f",
   "metadata": {},
   "source": [
    "# Axes\n",
    "\n",
    "The axes are referenced to the tool/carriage:\n",
    "\n",
    "X - moves towards/away from the tool (perpendicular to the carriage).\n",
    "\n",
    "Y - moves along the carriage axis\n",
    "\n",
    "Z - Vertical positioning, rarely used.\n",
    "\n",
    "A - Yaw of the robot. I believe this rotates around the delivery point of the fibre (the tip of the final roller). The rotation is around the Z axis.\n",
    "\n",
    "B - Rotation around Y axis (I think), rarely used.\n",
    "\n",
    "C - Rotation around X axis (I think), rarely used.\n",
    "\n",
    "E1 - Rotation of the payout eye. \n",
    "\n",
    "E2 - Not used, related to the tape placement head I believe.\n",
    "\n",
    "E3 - This rotates both chucks (headstock and tailstock) together, in a synchronised fashion. \n",
    "\n",
    "E4 - This rotates the tailstock ONLY. For example, if you wish to only rotate the headstock, you would require equivalent +ve E3 and -ve E4 motion"
   ]
  },
  {
   "cell_type": "code",
   "execution_count": 32,
   "id": "f16c328d",
   "metadata": {},
   "outputs": [],
   "source": [
    "import re\n",
    "d = 'output/'\n",
    "fname = \"A_40mm_helical_45_10\"\n",
    "ftext = open(d+fname+'.src', \"r\").read()\n"
   ]
  },
  {
   "cell_type": "code",
   "execution_count": 73,
   "id": "3c5c78f8",
   "metadata": {
    "scrolled": true,
    "tags": []
   },
   "outputs": [],
   "source": [
    "P = { \"E3\":0.0, \"E4\":0.0 }\n",
    "def linapply(y, brel):\n",
    "    for e in y.split(\",\"):\n",
    "        k, v = e.split()\n",
    "        if brel: # and k in \"AXYZ\":\n",
    "            P[k] += float(v)\n",
    "        else:\n",
    "            P[k] = float(v)\n",
    "            \n",
    "reforblk = \"(?s)LIN \\{(.*?)\\}\\nHALT\\n.*?FOR N_CYC=1 to (\\d+)\\n(.*?)ENDFOR\"\n",
    "forblks = re.findall(reforblk, ftext)\n",
    "#forblks"
   ]
  },
  {
   "cell_type": "code",
   "execution_count": 55,
   "id": "8b924a35",
   "metadata": {
    "tags": []
   },
   "outputs": [],
   "source": [
    "Pblocks = [ ]\n",
    "for bknum, forblk in enumerate(forblks):\n",
    "    P[\"E3\"] = P[\"E4\"] = 0\n",
    "    linapply(forblk[0], False)\n",
    "    Ps = [ P.copy() ]\n",
    "    #print(P[\"Y\"], forblk[0])\n",
    "    lins = re.findall(\"LIN_REL \\{(.*?)\\}\", forblk[2])\n",
    "    k1 = Ps[-1]\n",
    "    Ncycles = int(forblk[1])\n",
    "    for N_CYC in range(Ncycles):\n",
    "        for lin in lins:\n",
    "            linapply(lin, True)\n",
    "            Ps.append(P.copy())\n",
    "            #assert bknum <= 5 or P.get(\"E3\", 0) < 10000, (bknum, P)\n",
    "    Pblocks.append({\"Ps\":Ps, \"Ncycles\":Ncycles})"
   ]
  },
  {
   "cell_type": "code",
   "execution_count": 71,
   "id": "c0d934bd-5d8b-4a16-8562-ef9a989e7384",
   "metadata": {
    "tags": []
   },
   "outputs": [],
   "source": [
    "res=[]\n",
    "first = True\n",
    "for P in Pblocks[0]['Ps']:\n",
    "    if first:\n",
    "        res.append(\"LIN {X %+.3f,Y %+.3f,Z %+.3f,A %+.3f,E1 %+.3f,E3 %+.3f,E4 %+.3f}\\n\" % \\\n",
    "                   (P['X'], P['Y'], 0.0, P['A'], P['E1'], P['E3'], P['E4']))\n",
    "        first = False\n",
    "    else:\n",
    "        res.append(\"LIN {X %+.3f,Y %+.3f,Z %+.3f,A %+.3f,E1 %+.3f,E3 %+.3f,E4 %+.3f} C_DIS\\n\" % \\\n",
    "                       (P['X'], P['Y'], 0.0, P['A'], P['E1'], P['E3'], P['E4']))"
   ]
  },
  {
   "cell_type": "code",
   "execution_count": 72,
   "id": "1ef3fbf9-9fc3-4cea-90fb-83222fb2d351",
   "metadata": {
    "scrolled": true,
    "tags": []
   },
   "outputs": [],
   "source": [
    "fout = open(d+fname+'-LIN.src', \"w\")\n",
    "fout.write(open(\"srcheader-HUMM.txt\").read())\n",
    "fout.write(res[0])\n",
    "fout.write(\"HALT\\n\")\n",
    "fout.write(\"ACTION(#HUMM3_START,100,1000,#STOPONERROR,ERROR_CODE)\\n\")\n",
    "fout.write(\"$APO.CDIS=85\\n\")\n",
    "fout.write(\"$VEL_EXTAX[1]=100\\n\")\n",
    "for l in res[1:]:\n",
    "    fout.write(l)\n",
    "fout.write(\"HALT\\n\")\n",
    "fout.write(\"END\\n\");\n",
    "fout.close()"
   ]
  }
 ],
 "metadata": {
  "kernelspec": {
   "display_name": "Python 3 (ipykernel)",
   "language": "python",
   "name": "python3"
  },
  "language_info": {
   "codemirror_mode": {
    "name": "ipython",
    "version": 3
   },
   "file_extension": ".py",
   "mimetype": "text/x-python",
   "name": "python",
   "nbconvert_exporter": "python",
   "pygments_lexer": "ipython3",
   "version": "3.8.12"
  }
 },
 "nbformat": 4,
 "nbformat_minor": 5
}
