{
 "cells": [
  {
   "cell_type": "markdown",
   "id": "e7387a58",
   "metadata": {},
   "source": [
    "# Axes\n",
    "\n",
    "The axes are referenced to the tool/carriage:\n",
    "\n",
    "X - moves towards/away from the tool (perpendicular to the carriage).\n",
    "\n",
    "Y - moves along the carriage axis\n",
    "\n",
    "Z - Vertical positioning, rarely used.\n",
    "\n",
    "A - Yaw of the robot. I believe this rotates around the delivery point of the fibre (the tip of the final roller). The rotation is around the Z axis.\n",
    "\n",
    "B - Rotation around Y axis (I think), rarely used.\n",
    "\n",
    "C - Rotation around X axis (I think), rarely used.\n",
    "\n",
    "E1 - Rotation of the payout eye. \n",
    "\n",
    "E2 - Not used, related to the tape placement head I believe.\n",
    "\n",
    "E3 - This rotates both chucks (headstock and tailstock) together, in a synchronised fashion. \n",
    "\n",
    "E4 - This rotates the tailstock ONLY. For example, if you wish to only rotate the headstock, you would require equivalent +ve E3 and -ve E4 motion\n"
   ]
  },
  {
   "cell_type": "code",
   "execution_count": 54,
   "id": "b9fbfea3",
   "metadata": {},
   "outputs": [],
   "source": [
    "import pandas, re, operator\n",
    "\n",
    "fname = \"output/cadfil1/4axisnoyaw.src\"\n",
    "ftext = open(fname).read()\n",
    "\n",
    "headers = [ \"Y\", \"X\", \"Z\", \"A\", \"E1\", \"E2\", \"E3\", \"E4\" ]\n",
    "def lin2series(lin):\n",
    "    values = [0.0]*len(headers)\n",
    "    for e in lin.split(\",\"):\n",
    "        k, v = e.split()\n",
    "        values[headers.index(k)] = float(v)\n",
    "    return pandas.Series(values, headers)\n",
    "\n",
    "reforblk = \"(?s)LIN \\{(.*?)\\}\\s*HALT.*?FOR N_CYC=1 to \\s*(\\d+)\\n(.*?)ENDFOR\"\n",
    "forblks = re.findall(reforblk, ftext)\n",
    "\n",
    "pblks = [ ]\n",
    "for forblk in forblks:\n",
    "    lins = re.findall(\"LIN_REL \\{(.*?)\\}\", forblk[2])\n",
    "    df = pandas.DataFrame([lin2series(lin)  for lin in lins])\n",
    "    sumlinrels = sum(map(operator.itemgetter(1), df.iterrows()), start=lin2series(\"Y 0\"))\n",
    "    pblk = ({ \"linstart\":lin2series(forblk[0]), \"Ncycles\":int(forblk[1]), \n",
    "              \"sumlinrels\":sumlinrels, \"linrels\":df })\n",
    "    pblks.append(pblk)\n",
    "\n"
   ]
  },
  {
   "cell_type": "code",
   "execution_count": 59,
   "id": "23d9b6a1",
   "metadata": {},
   "outputs": [
    {
     "name": "stdout",
     "output_type": "stream",
     "text": [
      "Ncycles  22\n",
      "sumlinrels\n",
      "Y    -8.260059e-14\n",
      "X     0.000000e+00\n",
      "Z     0.000000e+00\n",
      "A     0.000000e+00\n",
      "E1    1.086364e+04\n",
      "E2   -2.664535e-15\n",
      "E3    0.000000e+00\n",
      "E4    0.000000e+00\n",
      "dtype: float64\n",
      "\n",
      "\n",
      "Ncycles  117\n",
      "sumlinrels\n",
      "Y     1.527667e-13\n",
      "X    -1.776357e-14\n",
      "Z     0.000000e+00\n",
      "A     0.000000e+00\n",
      "E1    1.581197e+03\n",
      "E2    1.776357e-14\n",
      "E3    0.000000e+00\n",
      "E4    0.000000e+00\n",
      "dtype: float64\n",
      "\n",
      "\n"
     ]
    }
   ],
   "source": [
    "for pblk in pblks:\n",
    "    print(\"Ncycles \", pblk[\"Ncycles\"])\n",
    "    print(\"sumlinrels\")\n",
    "    print(pblk[\"sumlinrels\"])\n",
    "    print(\"\\n\")\n",
    "    "
   ]
  },
  {
   "cell_type": "code",
   "execution_count": 81,
   "id": "8aebef9d",
   "metadata": {},
   "outputs": [
    {
     "name": "stdout",
     "output_type": "stream",
     "text": [
      "Ncycles  22\n",
      "E1rot 63.63600000000042 total 319.99199999999837\n",
      "Ncycles  117\n",
      "E1rot 141.1969999999999 total 320.04899999999907\n"
     ]
    }
   ],
   "source": [
    "for pblk in pblks:\n",
    "    print(\"Ncycles \", pblk[\"Ncycles\"])\n",
    "    print(\"E1rot\", pblk[\"sumlinrels\"][\"E1\"]%360, \"total\", (pblk[\"sumlinrels\"][\"E1\"]*pblk[\"Ncycles\"])%360)\n",
    "\n",
    "    "
   ]
  },
  {
   "cell_type": "code",
   "execution_count": 88,
   "id": "0261ec80",
   "metadata": {},
   "outputs": [
    {
     "data": {
      "text/plain": [
       "29"
      ]
     },
     "execution_count": 88,
     "metadata": {},
     "output_type": "execute_result"
    }
   ],
   "source": []
  },
  {
   "cell_type": "code",
   "execution_count": 84,
   "id": "4f4c7b33",
   "metadata": {},
   "outputs": [
    {
     "data": {
      "text/plain": [
       "[<matplotlib.lines.Line2D at 0x7f159529b640>]"
      ]
     },
     "execution_count": 84,
     "metadata": {},
     "output_type": "execute_result"
    },
    {
     "data": {
      "image/png": "[encoded data removed]",
      "text/plain": [
       "<Figure size 432x288 with 1 Axes>"
      ]
     },
     "metadata": {
      "needs_background": "light"
     },
     "output_type": "display_data"
    }
   ],
   "source": [
    "from matplotlib import pyplot as plt\n",
    "pthcyc1 = pandas.concat((pandas.DataFrame([pblk[\"linstart\"]]), pblk[\"linrels\"])).cumsum()\n",
    "pc = pthcyc1.iloc[:10]\n",
    "plt.plot(pc.Y, pc.X)\n"
   ]
  },
  {
   "cell_type": "code",
   "execution_count": 90,
   "id": "673f9be7",
   "metadata": {},
   "outputs": [
    {
     "data": {
      "text/plain": [
       "[<matplotlib.lines.Line2D at 0x7f159520fb80>]"
      ]
     },
     "execution_count": 90,
     "metadata": {},
     "output_type": "execute_result"
    },
    {
     "data": {
      "image/png": "[encoded data removed]",
      "text/plain": [
       "<Figure size 432x288 with 1 Axes>"
      ]
     },
     "metadata": {
      "needs_background": "light"
     },
     "output_type": "display_data"
    }
   ],
   "source": [
    "th2file1 = 'output/cadfil1/Vesselv2.TH2'\n",
    "th2df1 = pandas.read_csv(th2file1, sep=\"\\s+\", skipfooter=5, engine='python')\n",
    "plt.plot(th2df1.X, -th2df1.R)\n",
    "plt.plot(pthcyc1.Y, pthcyc1.X)\n"
   ]
  },
  {
   "cell_type": "code",
   "execution_count": null,
   "id": "7f612d26",
   "metadata": {},
   "outputs": [],
   "source": [
    "# Given an XY position for the tape layer, draw the horizon line on \n",
    "# the mandrel the tape will be landing.  \n",
    "# Can this be solved for a radially symetric shape as above?\n",
    "# It can be done easily on a mesh by cycling through the edges"
   ]
  }
 ],
 "metadata": {
  "kernelspec": {
   "display_name": "Python 3 (ipykernel)",
   "language": "python",
   "name": "python3"
  },
  "language_info": {
   "codemirror_mode": {
    "name": "ipython",
    "version": 3
   },
   "file_extension": ".py",
   "mimetype": "text/x-python",
   "name": "python",
   "nbconvert_exporter": "python",
   "pygments_lexer": "ipython3",
   "version": "3.9.6"
  }
 },
 "nbformat": 4,
 "nbformat_minor": 5
}
